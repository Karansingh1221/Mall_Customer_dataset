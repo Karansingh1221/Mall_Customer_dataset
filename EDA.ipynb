{
  "nbformat": 4,
  "nbformat_minor": 0,
  "metadata": {
    "colab": {
      "provenance": [],
      "authorship_tag": "ABX9TyNmxKsFXk7PNAcLF0AmfjKa",
      "include_colab_link": true
    },
    "kernelspec": {
      "name": "python3",
      "display_name": "Python 3"
    },
    "language_info": {
      "name": "python"
    }
  },
  "cells": [
    {
      "cell_type": "markdown",
      "metadata": {
        "id": "view-in-github",
        "colab_type": "text"
      },
      "source": [
        "<a href=\"https://colab.research.google.com/github/Karansingh1221/Mall_Customer_dataset/blob/main/EDA.ipynb\" target=\"_parent\"><img src=\"https://colab.research.google.com/assets/colab-badge.svg\" alt=\"Open In Colab\"/></a>"
      ]
    },
    {
      "cell_type": "code",
      "execution_count": null,
      "metadata": {
        "id": "0QpvKywSytJk"
      },
      "outputs": [],
      "source": [
        "data.describe()\n",
        "\n",
        "#defing the function for plotting histogram\n",
        "def visualize(column):\n",
        "  plt.figure(figsize=(10,6))\n",
        "  sns.histplot(data[column],bins=10,kde=True)\n",
        "  plt.title(f'{column} Distribution')\n",
        "  plt.xlabel(column)\n",
        "  plt.ylabel('Frequency')\n",
        "  plt.show()\n",
        "\n",
        "\n",
        "visualize('Age')\n",
        "visualize('Annual Income')\n",
        "visualize('Spending Score')\n",
        "plt.figure(figsize=(10,6))\n",
        "sns.scatterplot(data=data,x='Annual Income',y='Spending Score',hue='Gender')\n",
        "plt.title('Annual Income vs Spending Score')\n",
        "plt.show()"
      ]
    }
  ]
}