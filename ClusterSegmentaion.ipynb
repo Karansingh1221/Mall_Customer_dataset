{
  "nbformat": 4,
  "nbformat_minor": 0,
  "metadata": {
    "colab": {
      "provenance": [],
      "authorship_tag": "ABX9TyPf9i1XX86FL4KpvheXNxI4",
      "include_colab_link": true
    },
    "kernelspec": {
      "name": "python3",
      "display_name": "Python 3"
    },
    "language_info": {
      "name": "python"
    }
  },
  "cells": [
    {
      "cell_type": "markdown",
      "metadata": {
        "id": "view-in-github",
        "colab_type": "text"
      },
      "source": [
        "<a href=\"https://colab.research.google.com/github/Karansingh1221/Mall_Customer_dataset/blob/main/ClusterSegmentaion.ipynb\" target=\"_parent\"><img src=\"https://colab.research.google.com/assets/colab-badge.svg\" alt=\"Open In Colab\"/></a>"
      ]
    },
    {
      "cell_type": "code",
      "execution_count": null,
      "metadata": {
        "id": "hxdZHqPzy9YY"
      },
      "outputs": [],
      "source": [
        "from sklearn.cluster import KMeans\n",
        "from sklearn.preprocessing import StandardScaler\n",
        "\n",
        "#feature Selection\n",
        "features=data[['Age','Annual Income','Spending Score']]\n",
        "\n",
        "#Scaling the featured data\n",
        "scaler=StandardScaler()\n",
        "scaled_features=scaler.fit_transform(features)\n",
        "\n",
        "#tApplying kmeans clustering\n",
        "kmeans=KMeans(n_clusters=5,random_state=42)\n",
        "data['Cluster']=kmeans.fit_predict(scaled_features)\n",
        "\n",
        "#Evaluating cluster quality\n",
        "plt.figure(figsize=(10,6))\n",
        "sns.scatterplot(data=data,x='Annual Income',y='Spending Score',hue='Cluster',palette='viridis')\n",
        "plt.title('Customer Segments')\n",
        "plt.show()\n"
      ]
    }
  ]
}