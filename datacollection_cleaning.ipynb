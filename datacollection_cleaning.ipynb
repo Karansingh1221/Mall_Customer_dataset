{
  "nbformat": 4,
  "nbformat_minor": 0,
  "metadata": {
    "colab": {
      "provenance": [],
      "authorship_tag": "ABX9TyNrJrqWj4AO5t2zFG52c9N3",
      "include_colab_link": true
    },
    "kernelspec": {
      "name": "python3",
      "display_name": "Python 3"
    },
    "language_info": {
      "name": "python"
    }
  },
  "cells": [
    {
      "cell_type": "markdown",
      "metadata": {
        "id": "view-in-github",
        "colab_type": "text"
      },
      "source": [
        "<a href=\"https://colab.research.google.com/github/Karansingh1221/Mall_Customer_dataset/blob/main/datacollection_cleaning.ipynb\" target=\"_parent\"><img src=\"https://colab.research.google.com/assets/colab-badge.svg\" alt=\"Open In Colab\"/></a>"
      ]
    },
    {
      "cell_type": "code",
      "execution_count": null,
      "metadata": {
        "id": "e6Fmvu6Cx895"
      },
      "outputs": [],
      "source": [
        "import numpy as np\n",
        "import pandas as pd\n",
        "import matplotlib.pyplot as plt\n",
        "import seaborn as sns\n",
        "#load the dataset\n",
        "data=pd.read_csv('/content/Mall_Customers.csv')\n",
        "data.head(10)\n",
        "\n",
        "count=data.isnull().sum()#checking for null values\n",
        "count\n",
        "\n",
        "data.columns=['Customer id','Gender','Age','Annual Income','Spending Score']#renaming the columns\n",
        "data.head()\n",
        "\n",
        "data['Gender']=data['Gender'].map({'Male':0,'Female':1})#converting categorical to numerical data\n",
        "data.head()"
      ]
    }
  ]
}